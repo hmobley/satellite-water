{
  "nbformat": 4,
  "nbformat_minor": 0,
  "metadata": {
    "colab": {
      "provenance": [],
      "authorship_tag": "ABX9TyNBAc2XZMKJzWBRYg1iywQG",
      "include_colab_link": true
    },
    "kernelspec": {
      "name": "python3",
      "display_name": "Python 3"
    },
    "language_info": {
      "name": "python"
    }
  },
  "cells": [
    {
      "cell_type": "markdown",
      "metadata": {
        "id": "view-in-github",
        "colab_type": "text"
      },
      "source": [
        "<a href=\"https://colab.research.google.com/github/hmobley/satellite-water/blob/main/Part_2_DataAcquisitionAndPreProcessing.ipynb\" target=\"_parent\"><img src=\"https://colab.research.google.com/assets/colab-badge.svg\" alt=\"Open In Colab\"/></a>"
      ]
    },
    {
      "cell_type": "code",
      "execution_count": 1,
      "metadata": {
        "colab": {
          "base_uri": "https://localhost:8080/"
        },
        "id": "4DSK403Q7_uv",
        "outputId": "33d1186c-e86d-4f75-ab86-fbbdc9d7a8fa"
      },
      "outputs": [
        {
          "output_type": "stream",
          "name": "stdout",
          "text": [
            "https://tiles.maps.eox.at/wms?service=wms&request=getmap&version=1.1.1&layers=s2cloudless-2018&bbox=10.232263646327286,-0.670557747166987,10.334917149745255,-0.5679042437490183&width=4096&height=4096&srs=epsg:4326\n"
          ]
        }
      ],
      "source": [
        "# define all the parameters\n",
        "root = \"https://tiles.maps.eox.at/wms?service=wms&request=getmap&version=1.1.1&\"\n",
        "layers = 'layers=s2cloudless-2018&'\n",
        "bbox = 'bbox=10.232263646327286,-0.670557747166987,10.334917149745255,-0.5679042437490183&'\n",
        "width = 'width=4096&'\n",
        "height = 'height=4096&'\n",
        "srs = 'srs=epsg:4326'\n",
        "\n",
        "# define the output\n",
        "destination = 'example_image.jpg'\n",
        "\n",
        "#construct and print the url\n",
        "url = root+layers+bbox+width+height+srs\n",
        "print(url)"
      ]
    },
    {
      "cell_type": "code",
      "source": [
        "import urllib.request\n",
        "urllib.request.urlretrieve(url, destination)"
      ],
      "metadata": {
        "colab": {
          "base_uri": "https://localhost:8080/"
        },
        "id": "f46Efa9Y8KPl",
        "outputId": "0c1ddf7b-bba3-4cf8-86ce-bdb2db28aa39"
      },
      "execution_count": 2,
      "outputs": [
        {
          "output_type": "execute_result",
          "data": {
            "text/plain": [
              "('example_image.jpg', <http.client.HTTPMessage at 0x7f4c02c69400>)"
            ]
          },
          "metadata": {},
          "execution_count": 2
        }
      ]
    },
    {
      "cell_type": "code",
      "source": [
        "import os\n",
        "os.remove('example_image.jpg')"
      ],
      "metadata": {
        "id": "jAHDQvNt8gu6"
      },
      "execution_count": 3,
      "outputs": []
    },
    {
      "cell_type": "code",
      "source": [
        "#Lake Poopo, Bolivia\n",
        "site='poopo'\n",
        "# bbox = 'bbox=-68.66848367000537,-19.687928531849003,-66.67924128546656,-17.8774477409051&'\n",
        "# width = 'width=4096&'\n",
        "# height = 'height=4096&'\n",
        "# layers = ['layers=s2cloudless&', 'layers=s2cloudless-2018&']\n",
        "# srs = 'srs=epsg:4326'\n",
        "bbox = '-68.66848367000537,-19.687928531849003,-66.67924128546656,-17.8774477409051'\n",
        "width = '4096'\n",
        "height = '4096'\n",
        "layers = ['s2cloudless', 's2cloudless-2018']\n",
        "srs = 'epsg:4326'"
      ],
      "metadata": {
        "id": "QNg71oUN89vd"
      },
      "execution_count": 11,
      "outputs": []
    },
    {
      "cell_type": "code",
      "source": [
        "layer = 'layers=s2cloudless&'\n",
        "site+'_'+layer.split('=')[-1].split('&')[0]+'.jpg'"
      ],
      "metadata": {
        "colab": {
          "base_uri": "https://localhost:8080/",
          "height": 36
        },
        "id": "SZkap4NS-W4w",
        "outputId": "b90d0cb9-4b91-4e65-9244-d51b4748fd1b"
      },
      "execution_count": 6,
      "outputs": [
        {
          "output_type": "execute_result",
          "data": {
            "text/plain": [
              "'poopo_s2cloudless.jpg'"
            ],
            "application/vnd.google.colaboratory.intrinsic+json": {
              "type": "string"
            }
          },
          "metadata": {},
          "execution_count": 6
        }
      ]
    },
    {
      "cell_type": "code",
      "source": [
        "def make_filename(site, layer):\n",
        "    return F\"{site}_{layer}.jpg\""
      ],
      "metadata": {
        "id": "r8PcR6YfDK03"
      },
      "execution_count": 17,
      "outputs": []
    },
    {
      "cell_type": "code",
      "source": [
        "#download_all_layers(root,layers,bbox,width,height,srs,site)"
      ],
      "metadata": {
        "id": "8HuIuoJ0AI3X"
      },
      "execution_count": 44,
      "outputs": []
    },
    {
      "cell_type": "code",
      "source": [
        "year_layers = {2016:'s2cloudless',\n",
        "               2017:'s2cloudless-2017',\n",
        "               2018:'s2cloudless-2018'}"
      ],
      "metadata": {
        "id": "cxMtcOcKHli6"
      },
      "execution_count": 45,
      "outputs": []
    },
    {
      "cell_type": "code",
      "source": [
        "def download_all_layers(root,layers,bbox,width,height,srs,site):\n",
        "    #cycle through each layer to download\n",
        "    layers = [year_layers[x] for x in layers]\n",
        "    for layer in layers:\n",
        "        # construct a URL string \n",
        "        url = F\"{root}layers={layer}&bbox={bbox}&width={width}&height={height}&srs={srs}\"\n",
        "        display(url)\n",
        "        dest_filename = make_filename(site,layer)\n",
        "        display(dest_filename)\n",
        "        #download into a filename constructed as \"site_layer.jpg\"\n",
        "        #+urllib.request.urlretrieve(url, site+'_'+layer.split('=')[-1].split('&')[0]+'.jpg')\n",
        "        urllib.request.urlretrieve(url, dest_filename)"
      ],
      "metadata": {
        "id": "xc6Fz2i--lfK"
      },
      "execution_count": 46,
      "outputs": []
    },
    {
      "cell_type": "code",
      "source": [
        "test = [2016,2017,2018]\n",
        "[year_layers[x] for x in test]"
      ],
      "metadata": {
        "colab": {
          "base_uri": "https://localhost:8080/"
        },
        "id": "3RmxV5jKQUr-",
        "outputId": "440313d0-7772-4ad1-dfa7-93e91662b29e"
      },
      "execution_count": 47,
      "outputs": [
        {
          "output_type": "execute_result",
          "data": {
            "text/plain": [
              "['s2cloudless', 's2cloudless-2017', 's2cloudless-2018']"
            ]
          },
          "metadata": {},
          "execution_count": 47
        }
      ]
    },
    {
      "cell_type": "code",
      "source": [
        "images = [{'site':'poopo', # Lake Poopo, Bolivia\n",
        "           'bbox':'-68.66848367000537,-19.687928531849003,-66.67924128546656,-17.8774477409051',\n",
        "           'width':width,'height':height,\n",
        "           'layers':[2016,2018]},\n",
        "           {'site':'urmia',  # Lake Urmia, Iran\n",
        "           'bbox':'44.587725529095295,36.86436828406643,46.230181583782795,38.50682433875393',\n",
        "           'width':width,'height':height,\n",
        "           'layers':[2016,2017,2018]},\n",
        "          {'site':'mead_mojave', # Lake Mead/ Lake Mojave, USA\n",
        "           'bbox':'-115.42507235769445,34.94273489926993,-113.78261630300695,36.58519095395743',\n",
        "           'width':width,'height':height,\n",
        "           'layers':[2016,2018]},\n",
        "          {'site':'aral_sea', # Aral Sea, Kazahkstan\n",
        "           'bbox':'58.032853536637845,43.955292007325,61.317765646012845,47.2402041167',\n",
        "           'width':width,'height':height,\n",
        "           'layers':[2016,2018]},\n",
        "          {'site':'copais', # Copais Lake, Greece\n",
        "           'bbox':'23.214268551013436,38.36067354565393,23.350911007068124,38.4633270490719',\n",
        "           'width':width,'height':height,\n",
        "           'layers':[2016,2017,2018]},\n",
        "          {'site':'ramganga', # Ramganga Lake, India\n",
        "           'bbox':'78.63716910452058,29.468167756293038,78.91045401662996,29.673474763128976',\n",
        "           'width':width,'height':height,\n",
        "           'layers':[2016,2018]},\n",
        "          {'site':'qinghai', # Qinghai Lake, China \n",
        "           'bbox':'99.56471967977474,35.70094613663666,101.20168257039974,37.34340219132416',\n",
        "           'width':width,'height':height,\n",
        "           'layers':[2016,2018]},\n",
        "          {'site':'salton_sea', # Salton Sea, USA \n",
        "           'bbox':'-116.21928854749297,32.903320741965295,-115.40080710218047,33.724548769309045',\n",
        "           'width':width,'height':height,\n",
        "           'layers':[2016,2018]},\n",
        "          {'site':'faguibine', # Lake Faguibine, Mali\n",
        "           'bbox':'-4.656089323623854,14.959306189862815,-3.0191264329988536,16.601762244550315',\n",
        "           'width':4082,'height':height,\n",
        "           'layers':[2016,2018]},\n",
        "          {'site':'mono', # Mono Lake, USA\n",
        "           'bbox':'-119.22357779576633,37.797192162208084,-118.81433707311008,38.20780617587996',\n",
        "           'width':4082,'height':height,\n",
        "           'layers':[2016,2018]},\n",
        "          {'site':'walker', # Walker Lake, USA\n",
        "           'bbox':'-118.82841344222616,38.58649115903216,-118.62379308089804,38.791798165868094',\n",
        "           'width':4082,'height':height,\n",
        "           'layers':[2016,2018]},\n",
        "          {'site':'balaton', # Lake Balaton, Hungary\n",
        "           'bbox':'17.138306471163226,46.438781725159295,18.231446119600726,47.260009752503045',\n",
        "           'width':4096,'height':3084,\n",
        "           'layers':[2016,2017,2018]},\n",
        "          {'site':'koroneia', # Lake Koroneia, Greece\n",
        "           'bbox':'23.34167375183668,40.56321556296156,23.614958663946055,40.7685225697975',\n",
        "           'width':4096,'height':3084,\n",
        "           'layers':[2016,2017,2018]},\n",
        "          {'site':'salda', # Lake Salda, Turkey\n",
        "           'bbox':'29.6337346568769,37.49763563391751,29.736044837540963,37.60028913733548',\n",
        "           'width':4082,'height':4096,\n",
        "           'layers':[2016,2017,2018]},\n",
        "          {'site':'burdur', # Lake Burdur, Turkey\n",
        "           'bbox':'30.008970333642345,37.6345355820376,30.373579098290783,37.83984258887354',\n",
        "           'width':4096,'height':2312,\n",
        "           'layers':[2016,2017,2018]},\n",
        "          {'site':'mendocino', # Lake Mendocino, USA\n",
        "           'bbox':'-123.19613698824355,39.189371563341254,-123.14498189791152,39.24069831505024',\n",
        "           'width':4082,'height':4096,\n",
        "           'layers':[2016,2018]},\n",
        "          {'site':'elephant_butte', # Elephant Butte Reservoir, USA\n",
        "           'bbox':'-107.23803910498334,33.14614806405013,-107.13572892431928,33.2488015674681',\n",
        "           'width':4082,'height':4096,\n",
        "           'layers':[2016,2018]},\n",
        "          ]\n",
        "#download_all_layers(root,layers,bbox,width,height,srs,'urmia')"
      ],
      "metadata": {
        "id": "VWqRPyljBVpw"
      },
      "execution_count": 48,
      "outputs": []
    },
    {
      "cell_type": "code",
      "source": [
        "!ls"
      ],
      "metadata": {
        "colab": {
          "base_uri": "https://localhost:8080/"
        },
        "id": "FpInLo8bD5ow",
        "outputId": "65a8b248-4cc5-4a44-9f20-e2fb6857e28f"
      },
      "execution_count": 51,
      "outputs": [
        {
          "output_type": "stream",
          "name": "stdout",
          "text": [
            "sample_data\n"
          ]
        }
      ]
    },
    {
      "cell_type": "code",
      "source": [
        "# clean up files\n",
        "for info in images:\n",
        "    for layer in info[\"layers\"]:\n",
        "        try:\n",
        "            os.remove(make_filename(info[\"site\"],layer))\n",
        "        except OSError:\n",
        "            pass"
      ],
      "metadata": {
        "id": "_ea3mRBoC-QH"
      },
      "execution_count": 52,
      "outputs": []
    },
    {
      "cell_type": "code",
      "source": [
        "!ls"
      ],
      "metadata": {
        "colab": {
          "base_uri": "https://localhost:8080/"
        },
        "id": "EpKw_H6nFFa2",
        "outputId": "40678c17-90cf-46e3-be27-7c4540c2ac71"
      },
      "execution_count": 53,
      "outputs": [
        {
          "output_type": "stream",
          "name": "stdout",
          "text": [
            "sample_data\n"
          ]
        }
      ]
    },
    {
      "cell_type": "code",
      "source": [
        "for info in images:\n",
        "    download_all_layers(root,info['layers'],info['bbox'],width,height,srs,info['site'])"
      ],
      "metadata": {
        "colab": {
          "base_uri": "https://localhost:8080/",
          "height": 1000
        },
        "id": "oe6fJszNCf_T",
        "outputId": "eee8df82-6010-4116-f49f-6744474de158"
      },
      "execution_count": 54,
      "outputs": [
        {
          "output_type": "display_data",
          "data": {
            "text/plain": [
              "'https://tiles.maps.eox.at/wms?service=wms&request=getmap&version=1.1.1&layers=s2cloudless&bbox=-68.66848367000537,-19.687928531849003,-66.67924128546656,-17.8774477409051&width=4096&&height=4096&&srs=epsg:4326'"
            ],
            "application/vnd.google.colaboratory.intrinsic+json": {
              "type": "string"
            }
          },
          "metadata": {}
        },
        {
          "output_type": "display_data",
          "data": {
            "text/plain": [
              "'poopo_s2cloudless.jpg'"
            ],
            "application/vnd.google.colaboratory.intrinsic+json": {
              "type": "string"
            }
          },
          "metadata": {}
        },
        {
          "output_type": "display_data",
          "data": {
            "text/plain": [
              "'https://tiles.maps.eox.at/wms?service=wms&request=getmap&version=1.1.1&layers=s2cloudless-2018&bbox=-68.66848367000537,-19.687928531849003,-66.67924128546656,-17.8774477409051&width=4096&&height=4096&&srs=epsg:4326'"
            ],
            "application/vnd.google.colaboratory.intrinsic+json": {
              "type": "string"
            }
          },
          "metadata": {}
        },
        {
          "output_type": "display_data",
          "data": {
            "text/plain": [
              "'poopo_s2cloudless-2018.jpg'"
            ],
            "application/vnd.google.colaboratory.intrinsic+json": {
              "type": "string"
            }
          },
          "metadata": {}
        },
        {
          "output_type": "display_data",
          "data": {
            "text/plain": [
              "'https://tiles.maps.eox.at/wms?service=wms&request=getmap&version=1.1.1&layers=s2cloudless&bbox=44.587725529095295,36.86436828406643,46.230181583782795,38.50682433875393&width=4096&&height=4096&&srs=epsg:4326'"
            ],
            "application/vnd.google.colaboratory.intrinsic+json": {
              "type": "string"
            }
          },
          "metadata": {}
        },
        {
          "output_type": "display_data",
          "data": {
            "text/plain": [
              "'urmia_s2cloudless.jpg'"
            ],
            "application/vnd.google.colaboratory.intrinsic+json": {
              "type": "string"
            }
          },
          "metadata": {}
        },
        {
          "output_type": "display_data",
          "data": {
            "text/plain": [
              "'https://tiles.maps.eox.at/wms?service=wms&request=getmap&version=1.1.1&layers=s2cloudless-2017&bbox=44.587725529095295,36.86436828406643,46.230181583782795,38.50682433875393&width=4096&&height=4096&&srs=epsg:4326'"
            ],
            "application/vnd.google.colaboratory.intrinsic+json": {
              "type": "string"
            }
          },
          "metadata": {}
        },
        {
          "output_type": "display_data",
          "data": {
            "text/plain": [
              "'urmia_s2cloudless-2017.jpg'"
            ],
            "application/vnd.google.colaboratory.intrinsic+json": {
              "type": "string"
            }
          },
          "metadata": {}
        },
        {
          "output_type": "display_data",
          "data": {
            "text/plain": [
              "'https://tiles.maps.eox.at/wms?service=wms&request=getmap&version=1.1.1&layers=s2cloudless-2018&bbox=44.587725529095295,36.86436828406643,46.230181583782795,38.50682433875393&width=4096&&height=4096&&srs=epsg:4326'"
            ],
            "application/vnd.google.colaboratory.intrinsic+json": {
              "type": "string"
            }
          },
          "metadata": {}
        },
        {
          "output_type": "display_data",
          "data": {
            "text/plain": [
              "'urmia_s2cloudless-2018.jpg'"
            ],
            "application/vnd.google.colaboratory.intrinsic+json": {
              "type": "string"
            }
          },
          "metadata": {}
        },
        {
          "output_type": "display_data",
          "data": {
            "text/plain": [
              "'https://tiles.maps.eox.at/wms?service=wms&request=getmap&version=1.1.1&layers=s2cloudless&bbox=-115.42507235769445,34.94273489926993,-113.78261630300695,36.58519095395743&width=4096&&height=4096&&srs=epsg:4326'"
            ],
            "application/vnd.google.colaboratory.intrinsic+json": {
              "type": "string"
            }
          },
          "metadata": {}
        },
        {
          "output_type": "display_data",
          "data": {
            "text/plain": [
              "'mead_mojave_s2cloudless.jpg'"
            ],
            "application/vnd.google.colaboratory.intrinsic+json": {
              "type": "string"
            }
          },
          "metadata": {}
        },
        {
          "output_type": "display_data",
          "data": {
            "text/plain": [
              "'https://tiles.maps.eox.at/wms?service=wms&request=getmap&version=1.1.1&layers=s2cloudless-2018&bbox=-115.42507235769445,34.94273489926993,-113.78261630300695,36.58519095395743&width=4096&&height=4096&&srs=epsg:4326'"
            ],
            "application/vnd.google.colaboratory.intrinsic+json": {
              "type": "string"
            }
          },
          "metadata": {}
        },
        {
          "output_type": "display_data",
          "data": {
            "text/plain": [
              "'mead_mojave_s2cloudless-2018.jpg'"
            ],
            "application/vnd.google.colaboratory.intrinsic+json": {
              "type": "string"
            }
          },
          "metadata": {}
        },
        {
          "output_type": "display_data",
          "data": {
            "text/plain": [
              "'https://tiles.maps.eox.at/wms?service=wms&request=getmap&version=1.1.1&layers=s2cloudless&bbox=58.032853536637845,43.955292007325,61.317765646012845,47.2402041167&width=4096&&height=4096&&srs=epsg:4326'"
            ],
            "application/vnd.google.colaboratory.intrinsic+json": {
              "type": "string"
            }
          },
          "metadata": {}
        },
        {
          "output_type": "display_data",
          "data": {
            "text/plain": [
              "'aral_sea_s2cloudless.jpg'"
            ],
            "application/vnd.google.colaboratory.intrinsic+json": {
              "type": "string"
            }
          },
          "metadata": {}
        },
        {
          "output_type": "display_data",
          "data": {
            "text/plain": [
              "'https://tiles.maps.eox.at/wms?service=wms&request=getmap&version=1.1.1&layers=s2cloudless-2018&bbox=58.032853536637845,43.955292007325,61.317765646012845,47.2402041167&width=4096&&height=4096&&srs=epsg:4326'"
            ],
            "application/vnd.google.colaboratory.intrinsic+json": {
              "type": "string"
            }
          },
          "metadata": {}
        },
        {
          "output_type": "display_data",
          "data": {
            "text/plain": [
              "'aral_sea_s2cloudless-2018.jpg'"
            ],
            "application/vnd.google.colaboratory.intrinsic+json": {
              "type": "string"
            }
          },
          "metadata": {}
        },
        {
          "output_type": "display_data",
          "data": {
            "text/plain": [
              "'https://tiles.maps.eox.at/wms?service=wms&request=getmap&version=1.1.1&layers=s2cloudless&bbox=23.214268551013436,38.36067354565393,23.350911007068124,38.4633270490719&width=4096&&height=4096&&srs=epsg:4326'"
            ],
            "application/vnd.google.colaboratory.intrinsic+json": {
              "type": "string"
            }
          },
          "metadata": {}
        },
        {
          "output_type": "display_data",
          "data": {
            "text/plain": [
              "'copais_s2cloudless.jpg'"
            ],
            "application/vnd.google.colaboratory.intrinsic+json": {
              "type": "string"
            }
          },
          "metadata": {}
        },
        {
          "output_type": "display_data",
          "data": {
            "text/plain": [
              "'https://tiles.maps.eox.at/wms?service=wms&request=getmap&version=1.1.1&layers=s2cloudless-2017&bbox=23.214268551013436,38.36067354565393,23.350911007068124,38.4633270490719&width=4096&&height=4096&&srs=epsg:4326'"
            ],
            "application/vnd.google.colaboratory.intrinsic+json": {
              "type": "string"
            }
          },
          "metadata": {}
        },
        {
          "output_type": "display_data",
          "data": {
            "text/plain": [
              "'copais_s2cloudless-2017.jpg'"
            ],
            "application/vnd.google.colaboratory.intrinsic+json": {
              "type": "string"
            }
          },
          "metadata": {}
        },
        {
          "output_type": "display_data",
          "data": {
            "text/plain": [
              "'https://tiles.maps.eox.at/wms?service=wms&request=getmap&version=1.1.1&layers=s2cloudless-2018&bbox=23.214268551013436,38.36067354565393,23.350911007068124,38.4633270490719&width=4096&&height=4096&&srs=epsg:4326'"
            ],
            "application/vnd.google.colaboratory.intrinsic+json": {
              "type": "string"
            }
          },
          "metadata": {}
        },
        {
          "output_type": "display_data",
          "data": {
            "text/plain": [
              "'copais_s2cloudless-2018.jpg'"
            ],
            "application/vnd.google.colaboratory.intrinsic+json": {
              "type": "string"
            }
          },
          "metadata": {}
        },
        {
          "output_type": "display_data",
          "data": {
            "text/plain": [
              "'https://tiles.maps.eox.at/wms?service=wms&request=getmap&version=1.1.1&layers=s2cloudless&bbox=78.63716910452058,29.468167756293038,78.91045401662996,29.673474763128976&width=4096&&height=4096&&srs=epsg:4326'"
            ],
            "application/vnd.google.colaboratory.intrinsic+json": {
              "type": "string"
            }
          },
          "metadata": {}
        },
        {
          "output_type": "display_data",
          "data": {
            "text/plain": [
              "'ramganga_s2cloudless.jpg'"
            ],
            "application/vnd.google.colaboratory.intrinsic+json": {
              "type": "string"
            }
          },
          "metadata": {}
        },
        {
          "output_type": "display_data",
          "data": {
            "text/plain": [
              "'https://tiles.maps.eox.at/wms?service=wms&request=getmap&version=1.1.1&layers=s2cloudless-2018&bbox=78.63716910452058,29.468167756293038,78.91045401662996,29.673474763128976&width=4096&&height=4096&&srs=epsg:4326'"
            ],
            "application/vnd.google.colaboratory.intrinsic+json": {
              "type": "string"
            }
          },
          "metadata": {}
        },
        {
          "output_type": "display_data",
          "data": {
            "text/plain": [
              "'ramganga_s2cloudless-2018.jpg'"
            ],
            "application/vnd.google.colaboratory.intrinsic+json": {
              "type": "string"
            }
          },
          "metadata": {}
        },
        {
          "output_type": "display_data",
          "data": {
            "text/plain": [
              "'https://tiles.maps.eox.at/wms?service=wms&request=getmap&version=1.1.1&layers=s2cloudless&bbox=99.56471967977474,35.70094613663666,101.20168257039974,37.34340219132416&width=4096&&height=4096&&srs=epsg:4326'"
            ],
            "application/vnd.google.colaboratory.intrinsic+json": {
              "type": "string"
            }
          },
          "metadata": {}
        },
        {
          "output_type": "display_data",
          "data": {
            "text/plain": [
              "'qinghai_s2cloudless.jpg'"
            ],
            "application/vnd.google.colaboratory.intrinsic+json": {
              "type": "string"
            }
          },
          "metadata": {}
        },
        {
          "output_type": "display_data",
          "data": {
            "text/plain": [
              "'https://tiles.maps.eox.at/wms?service=wms&request=getmap&version=1.1.1&layers=s2cloudless-2018&bbox=99.56471967977474,35.70094613663666,101.20168257039974,37.34340219132416&width=4096&&height=4096&&srs=epsg:4326'"
            ],
            "application/vnd.google.colaboratory.intrinsic+json": {
              "type": "string"
            }
          },
          "metadata": {}
        },
        {
          "output_type": "display_data",
          "data": {
            "text/plain": [
              "'qinghai_s2cloudless-2018.jpg'"
            ],
            "application/vnd.google.colaboratory.intrinsic+json": {
              "type": "string"
            }
          },
          "metadata": {}
        },
        {
          "output_type": "display_data",
          "data": {
            "text/plain": [
              "'https://tiles.maps.eox.at/wms?service=wms&request=getmap&version=1.1.1&layers=s2cloudless&bbox=-116.21928854749297,32.903320741965295,-115.40080710218047,33.724548769309045&width=4096&&height=4096&&srs=epsg:4326'"
            ],
            "application/vnd.google.colaboratory.intrinsic+json": {
              "type": "string"
            }
          },
          "metadata": {}
        },
        {
          "output_type": "display_data",
          "data": {
            "text/plain": [
              "'salton_sea_s2cloudless.jpg'"
            ],
            "application/vnd.google.colaboratory.intrinsic+json": {
              "type": "string"
            }
          },
          "metadata": {}
        },
        {
          "output_type": "display_data",
          "data": {
            "text/plain": [
              "'https://tiles.maps.eox.at/wms?service=wms&request=getmap&version=1.1.1&layers=s2cloudless-2018&bbox=-116.21928854749297,32.903320741965295,-115.40080710218047,33.724548769309045&width=4096&&height=4096&&srs=epsg:4326'"
            ],
            "application/vnd.google.colaboratory.intrinsic+json": {
              "type": "string"
            }
          },
          "metadata": {}
        },
        {
          "output_type": "display_data",
          "data": {
            "text/plain": [
              "'salton_sea_s2cloudless-2018.jpg'"
            ],
            "application/vnd.google.colaboratory.intrinsic+json": {
              "type": "string"
            }
          },
          "metadata": {}
        },
        {
          "output_type": "display_data",
          "data": {
            "text/plain": [
              "'https://tiles.maps.eox.at/wms?service=wms&request=getmap&version=1.1.1&layers=s2cloudless&bbox=-4.656089323623854,14.959306189862815,-3.0191264329988536,16.601762244550315&width=4096&&height=4096&&srs=epsg:4326'"
            ],
            "application/vnd.google.colaboratory.intrinsic+json": {
              "type": "string"
            }
          },
          "metadata": {}
        },
        {
          "output_type": "display_data",
          "data": {
            "text/plain": [
              "'faguibine_s2cloudless.jpg'"
            ],
            "application/vnd.google.colaboratory.intrinsic+json": {
              "type": "string"
            }
          },
          "metadata": {}
        },
        {
          "output_type": "display_data",
          "data": {
            "text/plain": [
              "'https://tiles.maps.eox.at/wms?service=wms&request=getmap&version=1.1.1&layers=s2cloudless-2018&bbox=-4.656089323623854,14.959306189862815,-3.0191264329988536,16.601762244550315&width=4096&&height=4096&&srs=epsg:4326'"
            ],
            "application/vnd.google.colaboratory.intrinsic+json": {
              "type": "string"
            }
          },
          "metadata": {}
        },
        {
          "output_type": "display_data",
          "data": {
            "text/plain": [
              "'faguibine_s2cloudless-2018.jpg'"
            ],
            "application/vnd.google.colaboratory.intrinsic+json": {
              "type": "string"
            }
          },
          "metadata": {}
        },
        {
          "output_type": "display_data",
          "data": {
            "text/plain": [
              "'https://tiles.maps.eox.at/wms?service=wms&request=getmap&version=1.1.1&layers=s2cloudless&bbox=-119.22357779576633,37.797192162208084,-118.81433707311008,38.20780617587996&width=4096&&height=4096&&srs=epsg:4326'"
            ],
            "application/vnd.google.colaboratory.intrinsic+json": {
              "type": "string"
            }
          },
          "metadata": {}
        },
        {
          "output_type": "display_data",
          "data": {
            "text/plain": [
              "'mono_s2cloudless.jpg'"
            ],
            "application/vnd.google.colaboratory.intrinsic+json": {
              "type": "string"
            }
          },
          "metadata": {}
        },
        {
          "output_type": "display_data",
          "data": {
            "text/plain": [
              "'https://tiles.maps.eox.at/wms?service=wms&request=getmap&version=1.1.1&layers=s2cloudless-2018&bbox=-119.22357779576633,37.797192162208084,-118.81433707311008,38.20780617587996&width=4096&&height=4096&&srs=epsg:4326'"
            ],
            "application/vnd.google.colaboratory.intrinsic+json": {
              "type": "string"
            }
          },
          "metadata": {}
        },
        {
          "output_type": "display_data",
          "data": {
            "text/plain": [
              "'mono_s2cloudless-2018.jpg'"
            ],
            "application/vnd.google.colaboratory.intrinsic+json": {
              "type": "string"
            }
          },
          "metadata": {}
        },
        {
          "output_type": "display_data",
          "data": {
            "text/plain": [
              "'https://tiles.maps.eox.at/wms?service=wms&request=getmap&version=1.1.1&layers=s2cloudless&bbox=-118.82841344222616,38.58649115903216,-118.62379308089804,38.791798165868094&width=4096&&height=4096&&srs=epsg:4326'"
            ],
            "application/vnd.google.colaboratory.intrinsic+json": {
              "type": "string"
            }
          },
          "metadata": {}
        },
        {
          "output_type": "display_data",
          "data": {
            "text/plain": [
              "'walker_s2cloudless.jpg'"
            ],
            "application/vnd.google.colaboratory.intrinsic+json": {
              "type": "string"
            }
          },
          "metadata": {}
        },
        {
          "output_type": "display_data",
          "data": {
            "text/plain": [
              "'https://tiles.maps.eox.at/wms?service=wms&request=getmap&version=1.1.1&layers=s2cloudless-2018&bbox=-118.82841344222616,38.58649115903216,-118.62379308089804,38.791798165868094&width=4096&&height=4096&&srs=epsg:4326'"
            ],
            "application/vnd.google.colaboratory.intrinsic+json": {
              "type": "string"
            }
          },
          "metadata": {}
        },
        {
          "output_type": "display_data",
          "data": {
            "text/plain": [
              "'walker_s2cloudless-2018.jpg'"
            ],
            "application/vnd.google.colaboratory.intrinsic+json": {
              "type": "string"
            }
          },
          "metadata": {}
        },
        {
          "output_type": "display_data",
          "data": {
            "text/plain": [
              "'https://tiles.maps.eox.at/wms?service=wms&request=getmap&version=1.1.1&layers=s2cloudless&bbox=17.138306471163226,46.438781725159295,18.231446119600726,47.260009752503045&width=4096&&height=4096&&srs=epsg:4326'"
            ],
            "application/vnd.google.colaboratory.intrinsic+json": {
              "type": "string"
            }
          },
          "metadata": {}
        },
        {
          "output_type": "display_data",
          "data": {
            "text/plain": [
              "'balaton_s2cloudless.jpg'"
            ],
            "application/vnd.google.colaboratory.intrinsic+json": {
              "type": "string"
            }
          },
          "metadata": {}
        },
        {
          "output_type": "display_data",
          "data": {
            "text/plain": [
              "'https://tiles.maps.eox.at/wms?service=wms&request=getmap&version=1.1.1&layers=s2cloudless-2017&bbox=17.138306471163226,46.438781725159295,18.231446119600726,47.260009752503045&width=4096&&height=4096&&srs=epsg:4326'"
            ],
            "application/vnd.google.colaboratory.intrinsic+json": {
              "type": "string"
            }
          },
          "metadata": {}
        },
        {
          "output_type": "display_data",
          "data": {
            "text/plain": [
              "'balaton_s2cloudless-2017.jpg'"
            ],
            "application/vnd.google.colaboratory.intrinsic+json": {
              "type": "string"
            }
          },
          "metadata": {}
        },
        {
          "output_type": "display_data",
          "data": {
            "text/plain": [
              "'https://tiles.maps.eox.at/wms?service=wms&request=getmap&version=1.1.1&layers=s2cloudless-2018&bbox=17.138306471163226,46.438781725159295,18.231446119600726,47.260009752503045&width=4096&&height=4096&&srs=epsg:4326'"
            ],
            "application/vnd.google.colaboratory.intrinsic+json": {
              "type": "string"
            }
          },
          "metadata": {}
        },
        {
          "output_type": "display_data",
          "data": {
            "text/plain": [
              "'balaton_s2cloudless-2018.jpg'"
            ],
            "application/vnd.google.colaboratory.intrinsic+json": {
              "type": "string"
            }
          },
          "metadata": {}
        },
        {
          "output_type": "display_data",
          "data": {
            "text/plain": [
              "'https://tiles.maps.eox.at/wms?service=wms&request=getmap&version=1.1.1&layers=s2cloudless&bbox=23.34167375183668,40.56321556296156,23.614958663946055,40.7685225697975&width=4096&&height=4096&&srs=epsg:4326'"
            ],
            "application/vnd.google.colaboratory.intrinsic+json": {
              "type": "string"
            }
          },
          "metadata": {}
        },
        {
          "output_type": "display_data",
          "data": {
            "text/plain": [
              "'koroneia_s2cloudless.jpg'"
            ],
            "application/vnd.google.colaboratory.intrinsic+json": {
              "type": "string"
            }
          },
          "metadata": {}
        },
        {
          "output_type": "display_data",
          "data": {
            "text/plain": [
              "'https://tiles.maps.eox.at/wms?service=wms&request=getmap&version=1.1.1&layers=s2cloudless-2017&bbox=23.34167375183668,40.56321556296156,23.614958663946055,40.7685225697975&width=4096&&height=4096&&srs=epsg:4326'"
            ],
            "application/vnd.google.colaboratory.intrinsic+json": {
              "type": "string"
            }
          },
          "metadata": {}
        },
        {
          "output_type": "display_data",
          "data": {
            "text/plain": [
              "'koroneia_s2cloudless-2017.jpg'"
            ],
            "application/vnd.google.colaboratory.intrinsic+json": {
              "type": "string"
            }
          },
          "metadata": {}
        },
        {
          "output_type": "display_data",
          "data": {
            "text/plain": [
              "'https://tiles.maps.eox.at/wms?service=wms&request=getmap&version=1.1.1&layers=s2cloudless-2018&bbox=23.34167375183668,40.56321556296156,23.614958663946055,40.7685225697975&width=4096&&height=4096&&srs=epsg:4326'"
            ],
            "application/vnd.google.colaboratory.intrinsic+json": {
              "type": "string"
            }
          },
          "metadata": {}
        },
        {
          "output_type": "display_data",
          "data": {
            "text/plain": [
              "'koroneia_s2cloudless-2018.jpg'"
            ],
            "application/vnd.google.colaboratory.intrinsic+json": {
              "type": "string"
            }
          },
          "metadata": {}
        },
        {
          "output_type": "display_data",
          "data": {
            "text/plain": [
              "'https://tiles.maps.eox.at/wms?service=wms&request=getmap&version=1.1.1&layers=s2cloudless&bbox=29.6337346568769,37.49763563391751,29.736044837540963,37.60028913733548&width=4096&&height=4096&&srs=epsg:4326'"
            ],
            "application/vnd.google.colaboratory.intrinsic+json": {
              "type": "string"
            }
          },
          "metadata": {}
        },
        {
          "output_type": "display_data",
          "data": {
            "text/plain": [
              "'salda_s2cloudless.jpg'"
            ],
            "application/vnd.google.colaboratory.intrinsic+json": {
              "type": "string"
            }
          },
          "metadata": {}
        },
        {
          "output_type": "display_data",
          "data": {
            "text/plain": [
              "'https://tiles.maps.eox.at/wms?service=wms&request=getmap&version=1.1.1&layers=s2cloudless-2017&bbox=29.6337346568769,37.49763563391751,29.736044837540963,37.60028913733548&width=4096&&height=4096&&srs=epsg:4326'"
            ],
            "application/vnd.google.colaboratory.intrinsic+json": {
              "type": "string"
            }
          },
          "metadata": {}
        },
        {
          "output_type": "display_data",
          "data": {
            "text/plain": [
              "'salda_s2cloudless-2017.jpg'"
            ],
            "application/vnd.google.colaboratory.intrinsic+json": {
              "type": "string"
            }
          },
          "metadata": {}
        },
        {
          "output_type": "display_data",
          "data": {
            "text/plain": [
              "'https://tiles.maps.eox.at/wms?service=wms&request=getmap&version=1.1.1&layers=s2cloudless-2018&bbox=29.6337346568769,37.49763563391751,29.736044837540963,37.60028913733548&width=4096&&height=4096&&srs=epsg:4326'"
            ],
            "application/vnd.google.colaboratory.intrinsic+json": {
              "type": "string"
            }
          },
          "metadata": {}
        },
        {
          "output_type": "display_data",
          "data": {
            "text/plain": [
              "'salda_s2cloudless-2018.jpg'"
            ],
            "application/vnd.google.colaboratory.intrinsic+json": {
              "type": "string"
            }
          },
          "metadata": {}
        },
        {
          "output_type": "display_data",
          "data": {
            "text/plain": [
              "'https://tiles.maps.eox.at/wms?service=wms&request=getmap&version=1.1.1&layers=s2cloudless&bbox=30.008970333642345,37.6345355820376,30.373579098290783,37.83984258887354&width=4096&&height=4096&&srs=epsg:4326'"
            ],
            "application/vnd.google.colaboratory.intrinsic+json": {
              "type": "string"
            }
          },
          "metadata": {}
        },
        {
          "output_type": "display_data",
          "data": {
            "text/plain": [
              "'burdur_s2cloudless.jpg'"
            ],
            "application/vnd.google.colaboratory.intrinsic+json": {
              "type": "string"
            }
          },
          "metadata": {}
        },
        {
          "output_type": "display_data",
          "data": {
            "text/plain": [
              "'https://tiles.maps.eox.at/wms?service=wms&request=getmap&version=1.1.1&layers=s2cloudless-2017&bbox=30.008970333642345,37.6345355820376,30.373579098290783,37.83984258887354&width=4096&&height=4096&&srs=epsg:4326'"
            ],
            "application/vnd.google.colaboratory.intrinsic+json": {
              "type": "string"
            }
          },
          "metadata": {}
        },
        {
          "output_type": "display_data",
          "data": {
            "text/plain": [
              "'burdur_s2cloudless-2017.jpg'"
            ],
            "application/vnd.google.colaboratory.intrinsic+json": {
              "type": "string"
            }
          },
          "metadata": {}
        },
        {
          "output_type": "display_data",
          "data": {
            "text/plain": [
              "'https://tiles.maps.eox.at/wms?service=wms&request=getmap&version=1.1.1&layers=s2cloudless-2018&bbox=30.008970333642345,37.6345355820376,30.373579098290783,37.83984258887354&width=4096&&height=4096&&srs=epsg:4326'"
            ],
            "application/vnd.google.colaboratory.intrinsic+json": {
              "type": "string"
            }
          },
          "metadata": {}
        },
        {
          "output_type": "display_data",
          "data": {
            "text/plain": [
              "'burdur_s2cloudless-2018.jpg'"
            ],
            "application/vnd.google.colaboratory.intrinsic+json": {
              "type": "string"
            }
          },
          "metadata": {}
        },
        {
          "output_type": "display_data",
          "data": {
            "text/plain": [
              "'https://tiles.maps.eox.at/wms?service=wms&request=getmap&version=1.1.1&layers=s2cloudless&bbox=-123.19613698824355,39.189371563341254,-123.14498189791152,39.24069831505024&width=4096&&height=4096&&srs=epsg:4326'"
            ],
            "application/vnd.google.colaboratory.intrinsic+json": {
              "type": "string"
            }
          },
          "metadata": {}
        },
        {
          "output_type": "display_data",
          "data": {
            "text/plain": [
              "'mendocino_s2cloudless.jpg'"
            ],
            "application/vnd.google.colaboratory.intrinsic+json": {
              "type": "string"
            }
          },
          "metadata": {}
        },
        {
          "output_type": "display_data",
          "data": {
            "text/plain": [
              "'https://tiles.maps.eox.at/wms?service=wms&request=getmap&version=1.1.1&layers=s2cloudless-2018&bbox=-123.19613698824355,39.189371563341254,-123.14498189791152,39.24069831505024&width=4096&&height=4096&&srs=epsg:4326'"
            ],
            "application/vnd.google.colaboratory.intrinsic+json": {
              "type": "string"
            }
          },
          "metadata": {}
        },
        {
          "output_type": "display_data",
          "data": {
            "text/plain": [
              "'mendocino_s2cloudless-2018.jpg'"
            ],
            "application/vnd.google.colaboratory.intrinsic+json": {
              "type": "string"
            }
          },
          "metadata": {}
        },
        {
          "output_type": "display_data",
          "data": {
            "text/plain": [
              "'https://tiles.maps.eox.at/wms?service=wms&request=getmap&version=1.1.1&layers=s2cloudless&bbox=-107.23803910498334,33.14614806405013,-107.13572892431928,33.2488015674681&width=4096&&height=4096&&srs=epsg:4326'"
            ],
            "application/vnd.google.colaboratory.intrinsic+json": {
              "type": "string"
            }
          },
          "metadata": {}
        },
        {
          "output_type": "display_data",
          "data": {
            "text/plain": [
              "'elephant_butte_s2cloudless.jpg'"
            ],
            "application/vnd.google.colaboratory.intrinsic+json": {
              "type": "string"
            }
          },
          "metadata": {}
        },
        {
          "output_type": "display_data",
          "data": {
            "text/plain": [
              "'https://tiles.maps.eox.at/wms?service=wms&request=getmap&version=1.1.1&layers=s2cloudless-2018&bbox=-107.23803910498334,33.14614806405013,-107.13572892431928,33.2488015674681&width=4096&&height=4096&&srs=epsg:4326'"
            ],
            "application/vnd.google.colaboratory.intrinsic+json": {
              "type": "string"
            }
          },
          "metadata": {}
        },
        {
          "output_type": "display_data",
          "data": {
            "text/plain": [
              "'elephant_butte_s2cloudless-2018.jpg'"
            ],
            "application/vnd.google.colaboratory.intrinsic+json": {
              "type": "string"
            }
          },
          "metadata": {}
        }
      ]
    },
    {
      "cell_type": "code",
      "source": [
        "!ls"
      ],
      "metadata": {
        "colab": {
          "base_uri": "https://localhost:8080/"
        },
        "id": "S9x7A5kbSEtJ",
        "outputId": "68a7a5aa-2499-4c13-f8ae-80a87a531dd4"
      },
      "execution_count": 55,
      "outputs": [
        {
          "output_type": "stream",
          "name": "stdout",
          "text": [
            "aral_sea_s2cloudless-2018.jpg\t     mendocino_s2cloudless.jpg\n",
            "aral_sea_s2cloudless.jpg\t     mono_s2cloudless-2018.jpg\n",
            "balaton_s2cloudless-2017.jpg\t     mono_s2cloudless.jpg\n",
            "balaton_s2cloudless-2018.jpg\t     poopo_s2cloudless-2018.jpg\n",
            "balaton_s2cloudless.jpg\t\t     poopo_s2cloudless.jpg\n",
            "burdur_s2cloudless-2017.jpg\t     qinghai_s2cloudless-2018.jpg\n",
            "burdur_s2cloudless-2018.jpg\t     qinghai_s2cloudless.jpg\n",
            "burdur_s2cloudless.jpg\t\t     ramganga_s2cloudless-2018.jpg\n",
            "copais_s2cloudless-2017.jpg\t     ramganga_s2cloudless.jpg\n",
            "copais_s2cloudless-2018.jpg\t     salda_s2cloudless-2017.jpg\n",
            "copais_s2cloudless.jpg\t\t     salda_s2cloudless-2018.jpg\n",
            "elephant_butte_s2cloudless-2018.jpg  salda_s2cloudless.jpg\n",
            "elephant_butte_s2cloudless.jpg\t     salton_sea_s2cloudless-2018.jpg\n",
            "faguibine_s2cloudless-2018.jpg\t     salton_sea_s2cloudless.jpg\n",
            "faguibine_s2cloudless.jpg\t     sample_data\n",
            "koroneia_s2cloudless-2017.jpg\t     urmia_s2cloudless-2017.jpg\n",
            "koroneia_s2cloudless-2018.jpg\t     urmia_s2cloudless-2018.jpg\n",
            "koroneia_s2cloudless.jpg\t     urmia_s2cloudless.jpg\n",
            "mead_mojave_s2cloudless-2018.jpg     walker_s2cloudless-2018.jpg\n",
            "mead_mojave_s2cloudless.jpg\t     walker_s2cloudless.jpg\n",
            "mendocino_s2cloudless-2018.jpg\n"
          ]
        }
      ]
    }
  ]
}