{
  "nbformat": 4,
  "nbformat_minor": 0,
  "metadata": {
    "colab": {
      "provenance": [],
      "authorship_tag": "ABX9TyMfTlc+zyr+8aWkoTh/FNpk",
      "include_colab_link": true
    },
    "kernelspec": {
      "name": "python3",
      "display_name": "Python 3"
    },
    "language_info": {
      "name": "python"
    }
  },
  "cells": [
    {
      "cell_type": "markdown",
      "metadata": {
        "id": "view-in-github",
        "colab_type": "text"
      },
      "source": [
        "<a href=\"https://colab.research.google.com/github/hmobley/satellite-water/blob/main/Part_2_DataAcquisitionAndPreProcessing.ipynb\" target=\"_parent\"><img src=\"https://colab.research.google.com/assets/colab-badge.svg\" alt=\"Open In Colab\"/></a>"
      ]
    },
    {
      "cell_type": "code",
      "execution_count": 1,
      "metadata": {
        "colab": {
          "base_uri": "https://localhost:8080/"
        },
        "id": "4DSK403Q7_uv",
        "outputId": "33d1186c-e86d-4f75-ab86-fbbdc9d7a8fa"
      },
      "outputs": [
        {
          "output_type": "stream",
          "name": "stdout",
          "text": [
            "https://tiles.maps.eox.at/wms?service=wms&request=getmap&version=1.1.1&layers=s2cloudless-2018&bbox=10.232263646327286,-0.670557747166987,10.334917149745255,-0.5679042437490183&width=4096&height=4096&srs=epsg:4326\n"
          ]
        }
      ],
      "source": [
        "# define all the parameters\n",
        "root = \"https://tiles.maps.eox.at/wms?service=wms&request=getmap&version=1.1.1&\"\n",
        "layers = 'layers=s2cloudless-2018&'\n",
        "bbox = 'bbox=10.232263646327286,-0.670557747166987,10.334917149745255,-0.5679042437490183&'\n",
        "width = 'width=4096&'\n",
        "height = 'height=4096&'\n",
        "srs = 'srs=epsg:4326'\n",
        "\n",
        "# define the output\n",
        "destination = 'example_image.jpg'\n",
        "\n",
        "#construct and print the url\n",
        "url = root+layers+bbox+width+height+srs\n",
        "print(url)"
      ]
    },
    {
      "cell_type": "code",
      "source": [
        "import urllib.request\n",
        "urllib.request.urlretrieve(url, destination)"
      ],
      "metadata": {
        "colab": {
          "base_uri": "https://localhost:8080/"
        },
        "id": "f46Efa9Y8KPl",
        "outputId": "0c1ddf7b-bba3-4cf8-86ce-bdb2db28aa39"
      },
      "execution_count": 2,
      "outputs": [
        {
          "output_type": "execute_result",
          "data": {
            "text/plain": [
              "('example_image.jpg', <http.client.HTTPMessage at 0x7f4c02c69400>)"
            ]
          },
          "metadata": {},
          "execution_count": 2
        }
      ]
    },
    {
      "cell_type": "code",
      "source": [
        "import os\n",
        "os.remove('example_image.jpg')"
      ],
      "metadata": {
        "id": "jAHDQvNt8gu6"
      },
      "execution_count": 3,
      "outputs": []
    }
  ]
}